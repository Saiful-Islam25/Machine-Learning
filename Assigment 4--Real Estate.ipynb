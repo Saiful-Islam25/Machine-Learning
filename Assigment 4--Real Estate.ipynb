{
 "cells": [
  {
   "cell_type": "markdown",
   "id": "53bad6eb",
   "metadata": {},
   "source": [
    "# Real estate price"
   ]
  },
  {
   "cell_type": "code",
   "execution_count": 39,
   "id": "1b7eebbd",
   "metadata": {},
   "outputs": [],
   "source": [
    "import pandas as pd\n",
    "import seaborn as sns\n",
    "import matplotlib.pyplot as plt\n",
    "df = pd.read_csv('Real estate.csv')"
   ]
  },
  {
   "cell_type": "code",
   "execution_count": 2,
   "id": "de897489",
   "metadata": {},
   "outputs": [
    {
     "data": {
      "text/html": [
       "<div>\n",
       "<style scoped>\n",
       "    .dataframe tbody tr th:only-of-type {\n",
       "        vertical-align: middle;\n",
       "    }\n",
       "\n",
       "    .dataframe tbody tr th {\n",
       "        vertical-align: top;\n",
       "    }\n",
       "\n",
       "    .dataframe thead th {\n",
       "        text-align: right;\n",
       "    }\n",
       "</style>\n",
       "<table border=\"1\" class=\"dataframe\">\n",
       "  <thead>\n",
       "    <tr style=\"text-align: right;\">\n",
       "      <th></th>\n",
       "      <th>No</th>\n",
       "      <th>X1 transaction date</th>\n",
       "      <th>X2 house age</th>\n",
       "      <th>X3 distance to the nearest MRT station</th>\n",
       "      <th>X4 number of convenience stores</th>\n",
       "      <th>X5 latitude</th>\n",
       "      <th>X6 longitude</th>\n",
       "      <th>Y house price of unit area</th>\n",
       "    </tr>\n",
       "  </thead>\n",
       "  <tbody>\n",
       "    <tr>\n",
       "      <th>0</th>\n",
       "      <td>1</td>\n",
       "      <td>2012.917</td>\n",
       "      <td>32.0</td>\n",
       "      <td>84.87882</td>\n",
       "      <td>10</td>\n",
       "      <td>24.98298</td>\n",
       "      <td>121.54024</td>\n",
       "      <td>37.9</td>\n",
       "    </tr>\n",
       "    <tr>\n",
       "      <th>1</th>\n",
       "      <td>2</td>\n",
       "      <td>2012.917</td>\n",
       "      <td>19.5</td>\n",
       "      <td>306.59470</td>\n",
       "      <td>9</td>\n",
       "      <td>24.98034</td>\n",
       "      <td>121.53951</td>\n",
       "      <td>42.2</td>\n",
       "    </tr>\n",
       "    <tr>\n",
       "      <th>2</th>\n",
       "      <td>3</td>\n",
       "      <td>2013.583</td>\n",
       "      <td>13.3</td>\n",
       "      <td>561.98450</td>\n",
       "      <td>5</td>\n",
       "      <td>24.98746</td>\n",
       "      <td>121.54391</td>\n",
       "      <td>47.3</td>\n",
       "    </tr>\n",
       "  </tbody>\n",
       "</table>\n",
       "</div>"
      ],
      "text/plain": [
       "   No  X1 transaction date  X2 house age  \\\n",
       "0   1             2012.917          32.0   \n",
       "1   2             2012.917          19.5   \n",
       "2   3             2013.583          13.3   \n",
       "\n",
       "   X3 distance to the nearest MRT station  X4 number of convenience stores  \\\n",
       "0                                84.87882                               10   \n",
       "1                               306.59470                                9   \n",
       "2                               561.98450                                5   \n",
       "\n",
       "   X5 latitude  X6 longitude  Y house price of unit area  \n",
       "0     24.98298     121.54024                        37.9  \n",
       "1     24.98034     121.53951                        42.2  \n",
       "2     24.98746     121.54391                        47.3  "
      ]
     },
     "execution_count": 2,
     "metadata": {},
     "output_type": "execute_result"
    }
   ],
   "source": [
    "df.head(3)"
   ]
  },
  {
   "cell_type": "code",
   "execution_count": 3,
   "id": "c5579dde",
   "metadata": {},
   "outputs": [
    {
     "data": {
      "text/html": [
       "<div>\n",
       "<style scoped>\n",
       "    .dataframe tbody tr th:only-of-type {\n",
       "        vertical-align: middle;\n",
       "    }\n",
       "\n",
       "    .dataframe tbody tr th {\n",
       "        vertical-align: top;\n",
       "    }\n",
       "\n",
       "    .dataframe thead th {\n",
       "        text-align: right;\n",
       "    }\n",
       "</style>\n",
       "<table border=\"1\" class=\"dataframe\">\n",
       "  <thead>\n",
       "    <tr style=\"text-align: right;\">\n",
       "      <th></th>\n",
       "      <th>X1 transaction date</th>\n",
       "      <th>X2 house age</th>\n",
       "      <th>X3 distance to the nearest MRT station</th>\n",
       "      <th>X4 number of convenience stores</th>\n",
       "      <th>Y house price of unit area</th>\n",
       "    </tr>\n",
       "  </thead>\n",
       "  <tbody>\n",
       "    <tr>\n",
       "      <th>0</th>\n",
       "      <td>2012.917</td>\n",
       "      <td>32.0</td>\n",
       "      <td>84.87882</td>\n",
       "      <td>10</td>\n",
       "      <td>37.9</td>\n",
       "    </tr>\n",
       "    <tr>\n",
       "      <th>1</th>\n",
       "      <td>2012.917</td>\n",
       "      <td>19.5</td>\n",
       "      <td>306.59470</td>\n",
       "      <td>9</td>\n",
       "      <td>42.2</td>\n",
       "    </tr>\n",
       "    <tr>\n",
       "      <th>2</th>\n",
       "      <td>2013.583</td>\n",
       "      <td>13.3</td>\n",
       "      <td>561.98450</td>\n",
       "      <td>5</td>\n",
       "      <td>47.3</td>\n",
       "    </tr>\n",
       "  </tbody>\n",
       "</table>\n",
       "</div>"
      ],
      "text/plain": [
       "   X1 transaction date  X2 house age  X3 distance to the nearest MRT station  \\\n",
       "0             2012.917          32.0                                84.87882   \n",
       "1             2012.917          19.5                               306.59470   \n",
       "2             2013.583          13.3                               561.98450   \n",
       "\n",
       "   X4 number of convenience stores  Y house price of unit area  \n",
       "0                               10                        37.9  \n",
       "1                                9                        42.2  \n",
       "2                                5                        47.3  "
      ]
     },
     "execution_count": 3,
     "metadata": {},
     "output_type": "execute_result"
    }
   ],
   "source": [
    "df = df.drop(['No','X5 latitude','X6 longitude'], axis=1)\n",
    "df.head(3)"
   ]
  },
  {
   "cell_type": "code",
   "execution_count": 4,
   "id": "5398961e",
   "metadata": {},
   "outputs": [
    {
     "data": {
      "text/html": [
       "<div>\n",
       "<style scoped>\n",
       "    .dataframe tbody tr th:only-of-type {\n",
       "        vertical-align: middle;\n",
       "    }\n",
       "\n",
       "    .dataframe tbody tr th {\n",
       "        vertical-align: top;\n",
       "    }\n",
       "\n",
       "    .dataframe thead th {\n",
       "        text-align: right;\n",
       "    }\n",
       "</style>\n",
       "<table border=\"1\" class=\"dataframe\">\n",
       "  <thead>\n",
       "    <tr style=\"text-align: right;\">\n",
       "      <th></th>\n",
       "      <th>X1 transaction date</th>\n",
       "      <th>X2 house age</th>\n",
       "      <th>X3 distance to the nearest MRT station</th>\n",
       "      <th>X4 number of convenience stores</th>\n",
       "      <th>Y house price of unit area</th>\n",
       "    </tr>\n",
       "  </thead>\n",
       "  <tbody>\n",
       "    <tr>\n",
       "      <th>0</th>\n",
       "      <td>2012</td>\n",
       "      <td>32.0</td>\n",
       "      <td>84.87882</td>\n",
       "      <td>10</td>\n",
       "      <td>37.9</td>\n",
       "    </tr>\n",
       "    <tr>\n",
       "      <th>1</th>\n",
       "      <td>2012</td>\n",
       "      <td>19.5</td>\n",
       "      <td>306.59470</td>\n",
       "      <td>9</td>\n",
       "      <td>42.2</td>\n",
       "    </tr>\n",
       "    <tr>\n",
       "      <th>2</th>\n",
       "      <td>2013</td>\n",
       "      <td>13.3</td>\n",
       "      <td>561.98450</td>\n",
       "      <td>5</td>\n",
       "      <td>47.3</td>\n",
       "    </tr>\n",
       "  </tbody>\n",
       "</table>\n",
       "</div>"
      ],
      "text/plain": [
       "  X1 transaction date  X2 house age  X3 distance to the nearest MRT station  \\\n",
       "0                2012          32.0                                84.87882   \n",
       "1                2012          19.5                               306.59470   \n",
       "2                2013          13.3                               561.98450   \n",
       "\n",
       "   X4 number of convenience stores  Y house price of unit area  \n",
       "0                               10                        37.9  \n",
       "1                                9                        42.2  \n",
       "2                                5                        47.3  "
      ]
     },
     "execution_count": 4,
     "metadata": {},
     "output_type": "execute_result"
    }
   ],
   "source": [
    "df['X1 transaction date'] = df['X1 transaction date'].astype(str).str.extract(r'^(\\d{4})')[0]\n",
    "df.head(3)"
   ]
  },
  {
   "cell_type": "code",
   "execution_count": 5,
   "id": "0a22657e",
   "metadata": {},
   "outputs": [
    {
     "name": "stdout",
     "output_type": "stream",
     "text": [
      "<class 'pandas.core.frame.DataFrame'>\n",
      "RangeIndex: 414 entries, 0 to 413\n",
      "Data columns (total 5 columns):\n",
      " #   Column                                  Non-Null Count  Dtype  \n",
      "---  ------                                  --------------  -----  \n",
      " 0   X1 transaction date                     414 non-null    object \n",
      " 1   X2 house age                            414 non-null    float64\n",
      " 2   X3 distance to the nearest MRT station  414 non-null    float64\n",
      " 3   X4 number of convenience stores         414 non-null    int64  \n",
      " 4   Y house price of unit area              414 non-null    float64\n",
      "dtypes: float64(3), int64(1), object(1)\n",
      "memory usage: 16.3+ KB\n"
     ]
    }
   ],
   "source": [
    "df.info()"
   ]
  },
  {
   "cell_type": "code",
   "execution_count": 6,
   "id": "e24d3676",
   "metadata": {},
   "outputs": [
    {
     "data": {
      "text/html": [
       "<div>\n",
       "<style scoped>\n",
       "    .dataframe tbody tr th:only-of-type {\n",
       "        vertical-align: middle;\n",
       "    }\n",
       "\n",
       "    .dataframe tbody tr th {\n",
       "        vertical-align: top;\n",
       "    }\n",
       "\n",
       "    .dataframe thead th {\n",
       "        text-align: right;\n",
       "    }\n",
       "</style>\n",
       "<table border=\"1\" class=\"dataframe\">\n",
       "  <thead>\n",
       "    <tr style=\"text-align: right;\">\n",
       "      <th></th>\n",
       "      <th>X1 transaction date</th>\n",
       "      <th>X2 house age</th>\n",
       "      <th>X3 distance to the nearest MRT station</th>\n",
       "      <th>X4 number of convenience stores</th>\n",
       "      <th>Y house price of unit area</th>\n",
       "    </tr>\n",
       "  </thead>\n",
       "  <tbody>\n",
       "    <tr>\n",
       "      <th>0</th>\n",
       "      <td>2012</td>\n",
       "      <td>32.0</td>\n",
       "      <td>84.87882</td>\n",
       "      <td>10</td>\n",
       "      <td>37.9</td>\n",
       "    </tr>\n",
       "    <tr>\n",
       "      <th>1</th>\n",
       "      <td>2012</td>\n",
       "      <td>19.5</td>\n",
       "      <td>306.59470</td>\n",
       "      <td>9</td>\n",
       "      <td>42.2</td>\n",
       "    </tr>\n",
       "    <tr>\n",
       "      <th>2</th>\n",
       "      <td>2013</td>\n",
       "      <td>13.3</td>\n",
       "      <td>561.98450</td>\n",
       "      <td>5</td>\n",
       "      <td>47.3</td>\n",
       "    </tr>\n",
       "    <tr>\n",
       "      <th>3</th>\n",
       "      <td>2013</td>\n",
       "      <td>13.3</td>\n",
       "      <td>561.98450</td>\n",
       "      <td>5</td>\n",
       "      <td>54.8</td>\n",
       "    </tr>\n",
       "    <tr>\n",
       "      <th>4</th>\n",
       "      <td>2012</td>\n",
       "      <td>5.0</td>\n",
       "      <td>390.56840</td>\n",
       "      <td>5</td>\n",
       "      <td>43.1</td>\n",
       "    </tr>\n",
       "  </tbody>\n",
       "</table>\n",
       "</div>"
      ],
      "text/plain": [
       "   X1 transaction date  X2 house age  X3 distance to the nearest MRT station  \\\n",
       "0                 2012          32.0                                84.87882   \n",
       "1                 2012          19.5                               306.59470   \n",
       "2                 2013          13.3                               561.98450   \n",
       "3                 2013          13.3                               561.98450   \n",
       "4                 2012           5.0                               390.56840   \n",
       "\n",
       "   X4 number of convenience stores  Y house price of unit area  \n",
       "0                               10                        37.9  \n",
       "1                                9                        42.2  \n",
       "2                                5                        47.3  \n",
       "3                                5                        54.8  \n",
       "4                                5                        43.1  "
      ]
     },
     "execution_count": 6,
     "metadata": {},
     "output_type": "execute_result"
    }
   ],
   "source": [
    "df['X1 transaction date'] = df['X1 transaction date'].astype(int)\n",
    "df.head()"
   ]
  },
  {
   "cell_type": "code",
   "execution_count": 7,
   "id": "746775e1",
   "metadata": {},
   "outputs": [
    {
     "name": "stdout",
     "output_type": "stream",
     "text": [
      "<class 'pandas.core.frame.DataFrame'>\n",
      "RangeIndex: 414 entries, 0 to 413\n",
      "Data columns (total 5 columns):\n",
      " #   Column                                  Non-Null Count  Dtype  \n",
      "---  ------                                  --------------  -----  \n",
      " 0   X1 transaction date                     414 non-null    int32  \n",
      " 1   X2 house age                            414 non-null    float64\n",
      " 2   X3 distance to the nearest MRT station  414 non-null    float64\n",
      " 3   X4 number of convenience stores         414 non-null    int64  \n",
      " 4   Y house price of unit area              414 non-null    float64\n",
      "dtypes: float64(3), int32(1), int64(1)\n",
      "memory usage: 14.7 KB\n"
     ]
    }
   ],
   "source": [
    "df.info()"
   ]
  },
  {
   "cell_type": "markdown",
   "id": "1df3b9ac",
   "metadata": {},
   "source": [
    "### Dataset Explanation\n",
    "\n",
    "1. **X1 transaction date** (`int32`):  \n",
    "   - Represents the year of the transaction, indicating when the real estate sale occurred.  \n",
    "   - Example: 2012 or 2013.\n",
    "\n",
    "2. **X2 house age** (`float64`):  \n",
    "   - The age of the house in years at the time of the transaction.  \n",
    "   - Example: 32.0 means the house is 32 years old.\n",
    "\n",
    "3. **X3 distance to the nearest MRT station** (`float64`):  \n",
    "   - The distance from the house to the nearest MRT station, measured in meters.  \n",
    "   - Example: 84.87882 meters.\n",
    "\n",
    "4. **X4 number of convenience stores** (`int64`):  \n",
    "   - The number of convenience stores within a certain vicinity of the house.  \n",
    "   - Example: 10 means there are 10 convenience stores nearby.\n",
    "\n",
    "5. **Y house price of unit area** (`float64`):  \n",
    "   - The price per unit area (e.g., per square meter) of the house during the transaction.  \n",
    "   - Example: 37.9 means 37.9 currency units per square meter.\n"
   ]
  },
  {
   "cell_type": "markdown",
   "id": "f5d59a9b-7143-4773-a776-219634030fc5",
   "metadata": {},
   "source": [
    "# Continue...."
   ]
  },
  {
   "cell_type": "markdown",
   "id": "9b0c2275",
   "metadata": {},
   "source": [
    "### Steps for Regression Analysis\n"
   ]
  },
  {
   "cell_type": "markdown",
   "id": "5eb303c2-69a6-404e-b3c4-30d8509a5d51",
   "metadata": {},
   "source": [
    "#### **1. Split the Dataset**\n",
    "- Split the data into **training (70%)** and **testing (30%)** subsets.\n",
    "- Use the `train_test_split` function to ensure randomness in the split.\n",
    "- Define:\n",
    "  - **Features (X)**: `X1 transaction date`, `X2 house age`, `X3 distance to the nearest MRT station`, `X4 number of convenience stores`.\n",
    "  - **Target (Y)**: `Y house price of unit area`."
   ]
  },
  {
   "cell_type": "code",
   "execution_count": 8,
   "id": "5299e61a",
   "metadata": {},
   "outputs": [],
   "source": [
    "from sklearn.model_selection import train_test_split"
   ]
  },
  {
   "cell_type": "code",
   "execution_count": 9,
   "id": "3e2e9d42-1521-4e99-98bb-0917b5e19c8b",
   "metadata": {},
   "outputs": [],
   "source": [
    "X = df[['X1 transaction date', 'X2 house age', 'X3 distance to the nearest MRT station', 'X4 number of convenience stores']]\n",
    "Y = df['Y house price of unit area']"
   ]
  },
  {
   "cell_type": "code",
   "execution_count": 10,
   "id": "213fdf29-c99e-40cf-99e0-040b371f5272",
   "metadata": {},
   "outputs": [],
   "source": [
    "X_train, X_test, Y_train, Y_test = train_test_split(X, Y, test_size=0.3, random_state=42)"
   ]
  },
  {
   "cell_type": "code",
   "execution_count": 11,
   "id": "22a69b21-4a02-4104-98ff-5ecff636b44e",
   "metadata": {},
   "outputs": [
    {
     "data": {
      "text/plain": [
       "(289, 4)"
      ]
     },
     "execution_count": 11,
     "metadata": {},
     "output_type": "execute_result"
    }
   ],
   "source": [
    "X_train.shape"
   ]
  },
  {
   "cell_type": "code",
   "execution_count": 12,
   "id": "12f6361d-9697-4a0f-9e33-5468af412583",
   "metadata": {},
   "outputs": [
    {
     "data": {
      "text/html": [
       "<div>\n",
       "<style scoped>\n",
       "    .dataframe tbody tr th:only-of-type {\n",
       "        vertical-align: middle;\n",
       "    }\n",
       "\n",
       "    .dataframe tbody tr th {\n",
       "        vertical-align: top;\n",
       "    }\n",
       "\n",
       "    .dataframe thead th {\n",
       "        text-align: right;\n",
       "    }\n",
       "</style>\n",
       "<table border=\"1\" class=\"dataframe\">\n",
       "  <thead>\n",
       "    <tr style=\"text-align: right;\">\n",
       "      <th></th>\n",
       "      <th>X1 transaction date</th>\n",
       "      <th>X2 house age</th>\n",
       "      <th>X3 distance to the nearest MRT station</th>\n",
       "      <th>X4 number of convenience stores</th>\n",
       "    </tr>\n",
       "  </thead>\n",
       "  <tbody>\n",
       "    <tr>\n",
       "      <th>7</th>\n",
       "      <td>2013</td>\n",
       "      <td>20.3</td>\n",
       "      <td>287.60250</td>\n",
       "      <td>6</td>\n",
       "    </tr>\n",
       "    <tr>\n",
       "      <th>194</th>\n",
       "      <td>2013</td>\n",
       "      <td>15.2</td>\n",
       "      <td>3771.89500</td>\n",
       "      <td>0</td>\n",
       "    </tr>\n",
       "    <tr>\n",
       "      <th>19</th>\n",
       "      <td>2012</td>\n",
       "      <td>1.5</td>\n",
       "      <td>23.38284</td>\n",
       "      <td>7</td>\n",
       "    </tr>\n",
       "    <tr>\n",
       "      <th>176</th>\n",
       "      <td>2012</td>\n",
       "      <td>13.9</td>\n",
       "      <td>4573.77900</td>\n",
       "      <td>0</td>\n",
       "    </tr>\n",
       "    <tr>\n",
       "      <th>367</th>\n",
       "      <td>2012</td>\n",
       "      <td>15.0</td>\n",
       "      <td>1828.31900</td>\n",
       "      <td>2</td>\n",
       "    </tr>\n",
       "    <tr>\n",
       "      <th>...</th>\n",
       "      <td>...</td>\n",
       "      <td>...</td>\n",
       "      <td>...</td>\n",
       "      <td>...</td>\n",
       "    </tr>\n",
       "    <tr>\n",
       "      <th>71</th>\n",
       "      <td>2013</td>\n",
       "      <td>35.5</td>\n",
       "      <td>640.73910</td>\n",
       "      <td>3</td>\n",
       "    </tr>\n",
       "    <tr>\n",
       "      <th>106</th>\n",
       "      <td>2013</td>\n",
       "      <td>17.2</td>\n",
       "      <td>189.51810</td>\n",
       "      <td>8</td>\n",
       "    </tr>\n",
       "    <tr>\n",
       "      <th>270</th>\n",
       "      <td>2013</td>\n",
       "      <td>10.8</td>\n",
       "      <td>252.58220</td>\n",
       "      <td>1</td>\n",
       "    </tr>\n",
       "    <tr>\n",
       "      <th>348</th>\n",
       "      <td>2012</td>\n",
       "      <td>4.6</td>\n",
       "      <td>259.66070</td>\n",
       "      <td>6</td>\n",
       "    </tr>\n",
       "    <tr>\n",
       "      <th>102</th>\n",
       "      <td>2013</td>\n",
       "      <td>1.1</td>\n",
       "      <td>193.58450</td>\n",
       "      <td>6</td>\n",
       "    </tr>\n",
       "  </tbody>\n",
       "</table>\n",
       "<p>289 rows × 4 columns</p>\n",
       "</div>"
      ],
      "text/plain": [
       "     X1 transaction date  X2 house age  \\\n",
       "7                   2013          20.3   \n",
       "194                 2013          15.2   \n",
       "19                  2012           1.5   \n",
       "176                 2012          13.9   \n",
       "367                 2012          15.0   \n",
       "..                   ...           ...   \n",
       "71                  2013          35.5   \n",
       "106                 2013          17.2   \n",
       "270                 2013          10.8   \n",
       "348                 2012           4.6   \n",
       "102                 2013           1.1   \n",
       "\n",
       "     X3 distance to the nearest MRT station  X4 number of convenience stores  \n",
       "7                                 287.60250                                6  \n",
       "194                              3771.89500                                0  \n",
       "19                                 23.38284                                7  \n",
       "176                              4573.77900                                0  \n",
       "367                              1828.31900                                2  \n",
       "..                                      ...                              ...  \n",
       "71                                640.73910                                3  \n",
       "106                               189.51810                                8  \n",
       "270                               252.58220                                1  \n",
       "348                               259.66070                                6  \n",
       "102                               193.58450                                6  \n",
       "\n",
       "[289 rows x 4 columns]"
      ]
     },
     "execution_count": 12,
     "metadata": {},
     "output_type": "execute_result"
    }
   ],
   "source": [
    "pd.DataFrame(X_train)"
   ]
  },
  {
   "cell_type": "markdown",
   "id": "918dcdea-573a-43c5-849f-2082f9ba6161",
   "metadata": {},
   "source": [
    "#### **2. Check Correlation**\n",
    "- Compute the correlation matrix to understand the relationships between features and the target variable.\n",
    "- Visualize the correlation matrix using a **heatmap**:\n",
    "  - Strong correlations between features and the target suggest potential predictors.\n",
    "  - Identify multicollinearity (strong correlations between features), which might affect regression models."
   ]
  },
  {
   "cell_type": "code",
   "execution_count": 40,
   "id": "0067d32d-ed62-4605-9e08-8e6f6f1104d9",
   "metadata": {},
   "outputs": [
    {
     "name": "stdout",
     "output_type": "stream",
     "text": [
      "                                              No  X1 transaction date  \\\n",
      "No                                      1.000000            -0.048658   \n",
      "X1 transaction date                    -0.048658             1.000000   \n",
      "X2 house age                           -0.032808             0.017549   \n",
      "X3 distance to the nearest MRT station -0.013573             0.060880   \n",
      "X4 number of convenience stores        -0.012699             0.009635   \n",
      "X5 latitude                            -0.010110             0.035058   \n",
      "X6 longitude                           -0.011059            -0.041082   \n",
      "Y house price of unit area             -0.028587             0.087491   \n",
      "\n",
      "                                        X2 house age  \\\n",
      "No                                         -0.032808   \n",
      "X1 transaction date                         0.017549   \n",
      "X2 house age                                1.000000   \n",
      "X3 distance to the nearest MRT station      0.025622   \n",
      "X4 number of convenience stores             0.049593   \n",
      "X5 latitude                                 0.054420   \n",
      "X6 longitude                               -0.048520   \n",
      "Y house price of unit area                 -0.210567   \n",
      "\n",
      "                                        X3 distance to the nearest MRT station  \\\n",
      "No                                                                   -0.013573   \n",
      "X1 transaction date                                                   0.060880   \n",
      "X2 house age                                                          0.025622   \n",
      "X3 distance to the nearest MRT station                                1.000000   \n",
      "X4 number of convenience stores                                      -0.602519   \n",
      "X5 latitude                                                          -0.591067   \n",
      "X6 longitude                                                         -0.806317   \n",
      "Y house price of unit area                                           -0.673613   \n",
      "\n",
      "                                        X4 number of convenience stores  \\\n",
      "No                                                            -0.012699   \n",
      "X1 transaction date                                            0.009635   \n",
      "X2 house age                                                   0.049593   \n",
      "X3 distance to the nearest MRT station                        -0.602519   \n",
      "X4 number of convenience stores                                1.000000   \n",
      "X5 latitude                                                    0.444143   \n",
      "X6 longitude                                                   0.449099   \n",
      "Y house price of unit area                                     0.571005   \n",
      "\n",
      "                                        X5 latitude  X6 longitude  \\\n",
      "No                                        -0.010110     -0.011059   \n",
      "X1 transaction date                        0.035058     -0.041082   \n",
      "X2 house age                               0.054420     -0.048520   \n",
      "X3 distance to the nearest MRT station    -0.591067     -0.806317   \n",
      "X4 number of convenience stores            0.444143      0.449099   \n",
      "X5 latitude                                1.000000      0.412924   \n",
      "X6 longitude                               0.412924      1.000000   \n",
      "Y house price of unit area                 0.546307      0.523287   \n",
      "\n",
      "                                        Y house price of unit area  \n",
      "No                                                       -0.028587  \n",
      "X1 transaction date                                       0.087491  \n",
      "X2 house age                                             -0.210567  \n",
      "X3 distance to the nearest MRT station                   -0.673613  \n",
      "X4 number of convenience stores                           0.571005  \n",
      "X5 latitude                                               0.546307  \n",
      "X6 longitude                                              0.523287  \n",
      "Y house price of unit area                                1.000000  \n"
     ]
    }
   ],
   "source": [
    "correlation = df.corr()\n",
    "print(correlation)"
   ]
  },
  {
   "cell_type": "code",
   "execution_count": 48,
   "id": "d835c44b-204c-4002-9902-a652af7659e2",
   "metadata": {},
   "outputs": [
    {
     "data": {
      "image/png": "[encoded data removed]",
      "text/plain": [
       "<Figure size 600x500 with 2 Axes>"
      ]
     },
     "metadata": {},
     "output_type": "display_data"
    }
   ],
   "source": [
    "plt.figure(figsize=(6, 5))\n",
    "sns.heatmap(correlation, annot=True, fmt='.2f')\n",
    "plt.title(\"Heatmap Of Correlation\")\n",
    "plt.show()"
   ]
  },
  {
   "cell_type": "markdown",
   "id": "e9a84b46-8fe5-4f24-97f6-2eb720c0121a",
   "metadata": {},
   "source": [
    "#### \n",
    "    - X4 number of convenience stores (0.57): A strong positive correlation with Y.\n",
    "    - X3 distance to the nearest MRT station (-0.67): A strong negative correlation.\n",
    "    - X2 house age (-0.21): A weak negative correlation.\n",
    "    - X1 transaction date (0.08): No meaningful correlation with house prices."
   ]
  },
  {
   "cell_type": "markdown",
   "id": "717c0578-aafd-4c70-87b7-a635b804f263",
   "metadata": {},
   "source": [
    "#### **3. Apply Regression Models**\n",
    "\n",
    "**a. Linear Regression**\n",
    "1. Train a **Linear Regression** model using the training data.\n",
    "2. Predict the target values using the testing data.\n"
   ]
  },
  {
   "cell_type": "code",
   "execution_count": 16,
   "id": "be0514ae-361b-448c-8dc5-74fc97d6e65a",
   "metadata": {},
   "outputs": [],
   "source": [
    "from sklearn.linear_model import LinearRegression\n",
    "from sklearn.metrics import mean_squared_error, r2_score"
   ]
  },
  {
   "cell_type": "code",
   "execution_count": 17,
   "id": "b2fd2ad9-5eea-4eaf-97bd-9d4dda09ed8e",
   "metadata": {},
   "outputs": [],
   "source": [
    "linear_model = LinearRegression()"
   ]
  },
  {
   "cell_type": "code",
   "execution_count": 18,
   "id": "a8d3a515-b08b-49e1-9498-b7c679ed32fa",
   "metadata": {},
   "outputs": [
    {
     "data": {
      "text/html": [
       "<style>#sk-container-id-1 {color: black;background-color: white;}#sk-container-id-1 pre{padding: 0;}#sk-container-id-1 div.sk-toggleable {background-color: white;}#sk-container-id-1 label.sk-toggleable__label {cursor: pointer;display: block;width: 100%;margin-bottom: 0;padding: 0.3em;box-sizing: border-box;text-align: center;}#sk-container-id-1 label.sk-toggleable__label-arrow:before {content: \"▸\";float: left;margin-right: 0.25em;color: #696969;}#sk-container-id-1 label.sk-toggleable__label-arrow:hover:before {color: black;}#sk-container-id-1 div.sk-estimator:hover label.sk-toggleable__label-arrow:before {color: black;}#sk-container-id-1 div.sk-toggleable__content {max-height: 0;max-width: 0;overflow: hidden;text-align: left;background-color: #f0f8ff;}#sk-container-id-1 div.sk-toggleable__content pre {margin: 0.2em;color: black;border-radius: 0.25em;background-color: #f0f8ff;}#sk-container-id-1 input.sk-toggleable__control:checked~div.sk-toggleable__content {max-height: 200px;max-width: 100%;overflow: auto;}#sk-container-id-1 input.sk-toggleable__control:checked~label.sk-toggleable__label-arrow:before {content: \"▾\";}#sk-container-id-1 div.sk-estimator input.sk-toggleable__control:checked~label.sk-toggleable__label {background-color: #d4ebff;}#sk-container-id-1 div.sk-label input.sk-toggleable__control:checked~label.sk-toggleable__label {background-color: #d4ebff;}#sk-container-id-1 input.sk-hidden--visually {border: 0;clip: rect(1px 1px 1px 1px);clip: rect(1px, 1px, 1px, 1px);height: 1px;margin: -1px;overflow: hidden;padding: 0;position: absolute;width: 1px;}#sk-container-id-1 div.sk-estimator {font-family: monospace;background-color: #f0f8ff;border: 1px dotted black;border-radius: 0.25em;box-sizing: border-box;margin-bottom: 0.5em;}#sk-container-id-1 div.sk-estimator:hover {background-color: #d4ebff;}#sk-container-id-1 div.sk-parallel-item::after {content: \"\";width: 100%;border-bottom: 1px solid gray;flex-grow: 1;}#sk-container-id-1 div.sk-label:hover label.sk-toggleable__label {background-color: #d4ebff;}#sk-container-id-1 div.sk-serial::before {content: \"\";position: absolute;border-left: 1px solid gray;box-sizing: border-box;top: 0;bottom: 0;left: 50%;z-index: 0;}#sk-container-id-1 div.sk-serial {display: flex;flex-direction: column;align-items: center;background-color: white;padding-right: 0.2em;padding-left: 0.2em;position: relative;}#sk-container-id-1 div.sk-item {position: relative;z-index: 1;}#sk-container-id-1 div.sk-parallel {display: flex;align-items: stretch;justify-content: center;background-color: white;position: relative;}#sk-container-id-1 div.sk-item::before, #sk-container-id-1 div.sk-parallel-item::before {content: \"\";position: absolute;border-left: 1px solid gray;box-sizing: border-box;top: 0;bottom: 0;left: 50%;z-index: -1;}#sk-container-id-1 div.sk-parallel-item {display: flex;flex-direction: column;z-index: 1;position: relative;background-color: white;}#sk-container-id-1 div.sk-parallel-item:first-child::after {align-self: flex-end;width: 50%;}#sk-container-id-1 div.sk-parallel-item:last-child::after {align-self: flex-start;width: 50%;}#sk-container-id-1 div.sk-parallel-item:only-child::after {width: 0;}#sk-container-id-1 div.sk-dashed-wrapped {border: 1px dashed gray;margin: 0 0.4em 0.5em 0.4em;box-sizing: border-box;padding-bottom: 0.4em;background-color: white;}#sk-container-id-1 div.sk-label label {font-family: monospace;font-weight: bold;display: inline-block;line-height: 1.2em;}#sk-container-id-1 div.sk-label-container {text-align: center;}#sk-container-id-1 div.sk-container {/* jupyter's `normalize.less` sets `[hidden] { display: none; }` but bootstrap.min.css set `[hidden] { display: none !important; }` so we also need the `!important` here to be able to override the default hidden behavior on the sphinx rendered scikit-learn.org. See: https://github.com/scikit-learn/scikit-learn/issues/21755 */display: inline-block !important;position: relative;}#sk-container-id-1 div.sk-text-repr-fallback {display: none;}</style><div id=\"sk-container-id-1\" class=\"sk-top-container\"><div class=\"sk-text-repr-fallback\"><pre>LinearRegression()</pre><b>In a Jupyter environment, please rerun this cell to show the HTML representation or trust the notebook. <br />On GitHub, the HTML representation is unable to render, please try loading this page with nbviewer.org.</b></div><div class=\"sk-container\" hidden><div class=\"sk-item\"><div class=\"sk-estimator sk-toggleable\"><input class=\"sk-toggleable__control sk-hidden--visually\" id=\"sk-estimator-id-1\" type=\"checkbox\" checked><label for=\"sk-estimator-id-1\" class=\"sk-toggleable__label sk-toggleable__label-arrow\">LinearRegression</label><div class=\"sk-toggleable__content\"><pre>LinearRegression()</pre></div></div></div></div></div>"
      ],
      "text/plain": [
       "LinearRegression()"
      ]
     },
     "execution_count": 18,
     "metadata": {},
     "output_type": "execute_result"
    }
   ],
   "source": [
    "linear_model.fit(X_train, Y_train)"
   ]
  },
  {
   "cell_type": "code",
   "execution_count": 19,
   "id": "9c0c1a64-3343-4f4d-94f6-f4cec69ae9c5",
   "metadata": {},
   "outputs": [],
   "source": [
    "Y_pred = linear_model.predict(X_test)"
   ]
  },
  {
   "cell_type": "code",
   "execution_count": 20,
   "id": "c285ab15-e300-4d34-be26-7bb897a3e555",
   "metadata": {},
   "outputs": [],
   "source": [
    "mse_linear = mean_squared_error(Y_test, Y_pred)"
   ]
  },
  {
   "cell_type": "code",
   "execution_count": 21,
   "id": "aa85b333-ff06-4f09-9989-fe54753b6f37",
   "metadata": {},
   "outputs": [],
   "source": [
    "r2_linear = r2_score(Y_test, Y_pred)"
   ]
  },
  {
   "cell_type": "code",
   "execution_count": 50,
   "id": "886dd3d3-2d1d-4f80-b72d-63c089b90d60",
   "metadata": {},
   "outputs": [
    {
     "name": "stdout",
     "output_type": "stream",
     "text": [
      "Mean Squared Error of Linear Regression : 72.84834417663828\n",
      "R-squared of Linear Regression: 0.5643696003958076\n"
     ]
    }
   ],
   "source": [
    "print(\"Mean Squared Error of Linear Regression :\", mse_linear)\n",
    "print(\"R-squared of Linear Regression:\", r2_linear)"
   ]
  },
  {
   "cell_type": "code",
   "execution_count": null,
   "id": "c4821164-84b5-4509-ad26-9321208970a7",
   "metadata": {},
   "outputs": [],
   "source": []
  },
  {
   "cell_type": "markdown",
   "id": "c77a1c35-86a1-444e-aa2c-8579bfddc3bc",
   "metadata": {},
   "source": [
    "**b. Polynomial Regression**\n",
    "1. Use `PolynomialFeatures` to generate polynomial terms for the features (e.g., degree = 2 or 3).\n",
    "2. Train a **Linear Regression** model on the transformed polynomial features.\n",
    "3. Predict the target values using the transformed testing data."
   ]
  },
  {
   "cell_type": "code",
   "execution_count": 23,
   "id": "14212b9b-7dad-4498-b6fb-27c2a720d90d",
   "metadata": {},
   "outputs": [],
   "source": [
    "from sklearn.preprocessing import PolynomialFeatures"
   ]
  },
  {
   "cell_type": "code",
   "execution_count": 55,
   "id": "dc7b1c06-862b-4ac0-9815-1b52e74837eb",
   "metadata": {},
   "outputs": [],
   "source": [
    "poly = PolynomialFeatures(degree=3)\n",
    "X_train_poly = poly.fit_transform(X_train)\n",
    "X_test_poly = poly.transform(X_test)"
   ]
  },
  {
   "cell_type": "code",
   "execution_count": 52,
   "id": "c673b3d7-e72e-4479-b854-717ddf8ee7c7",
   "metadata": {},
   "outputs": [
    {
     "data": {
      "text/html": [
       "<style>#sk-container-id-3 {color: black;background-color: white;}#sk-container-id-3 pre{padding: 0;}#sk-container-id-3 div.sk-toggleable {background-color: white;}#sk-container-id-3 label.sk-toggleable__label {cursor: pointer;display: block;width: 100%;margin-bottom: 0;padding: 0.3em;box-sizing: border-box;text-align: center;}#sk-container-id-3 label.sk-toggleable__label-arrow:before {content: \"▸\";float: left;margin-right: 0.25em;color: #696969;}#sk-container-id-3 label.sk-toggleable__label-arrow:hover:before {color: black;}#sk-container-id-3 div.sk-estimator:hover label.sk-toggleable__label-arrow:before {color: black;}#sk-container-id-3 div.sk-toggleable__content {max-height: 0;max-width: 0;overflow: hidden;text-align: left;background-color: #f0f8ff;}#sk-container-id-3 div.sk-toggleable__content pre {margin: 0.2em;color: black;border-radius: 0.25em;background-color: #f0f8ff;}#sk-container-id-3 input.sk-toggleable__control:checked~div.sk-toggleable__content {max-height: 200px;max-width: 100%;overflow: auto;}#sk-container-id-3 input.sk-toggleable__control:checked~label.sk-toggleable__label-arrow:before {content: \"▾\";}#sk-container-id-3 div.sk-estimator input.sk-toggleable__control:checked~label.sk-toggleable__label {background-color: #d4ebff;}#sk-container-id-3 div.sk-label input.sk-toggleable__control:checked~label.sk-toggleable__label {background-color: #d4ebff;}#sk-container-id-3 input.sk-hidden--visually {border: 0;clip: rect(1px 1px 1px 1px);clip: rect(1px, 1px, 1px, 1px);height: 1px;margin: -1px;overflow: hidden;padding: 0;position: absolute;width: 1px;}#sk-container-id-3 div.sk-estimator {font-family: monospace;background-color: #f0f8ff;border: 1px dotted black;border-radius: 0.25em;box-sizing: border-box;margin-bottom: 0.5em;}#sk-container-id-3 div.sk-estimator:hover {background-color: #d4ebff;}#sk-container-id-3 div.sk-parallel-item::after {content: \"\";width: 100%;border-bottom: 1px solid gray;flex-grow: 1;}#sk-container-id-3 div.sk-label:hover label.sk-toggleable__label {background-color: #d4ebff;}#sk-container-id-3 div.sk-serial::before {content: \"\";position: absolute;border-left: 1px solid gray;box-sizing: border-box;top: 0;bottom: 0;left: 50%;z-index: 0;}#sk-container-id-3 div.sk-serial {display: flex;flex-direction: column;align-items: center;background-color: white;padding-right: 0.2em;padding-left: 0.2em;position: relative;}#sk-container-id-3 div.sk-item {position: relative;z-index: 1;}#sk-container-id-3 div.sk-parallel {display: flex;align-items: stretch;justify-content: center;background-color: white;position: relative;}#sk-container-id-3 div.sk-item::before, #sk-container-id-3 div.sk-parallel-item::before {content: \"\";position: absolute;border-left: 1px solid gray;box-sizing: border-box;top: 0;bottom: 0;left: 50%;z-index: -1;}#sk-container-id-3 div.sk-parallel-item {display: flex;flex-direction: column;z-index: 1;position: relative;background-color: white;}#sk-container-id-3 div.sk-parallel-item:first-child::after {align-self: flex-end;width: 50%;}#sk-container-id-3 div.sk-parallel-item:last-child::after {align-self: flex-start;width: 50%;}#sk-container-id-3 div.sk-parallel-item:only-child::after {width: 0;}#sk-container-id-3 div.sk-dashed-wrapped {border: 1px dashed gray;margin: 0 0.4em 0.5em 0.4em;box-sizing: border-box;padding-bottom: 0.4em;background-color: white;}#sk-container-id-3 div.sk-label label {font-family: monospace;font-weight: bold;display: inline-block;line-height: 1.2em;}#sk-container-id-3 div.sk-label-container {text-align: center;}#sk-container-id-3 div.sk-container {/* jupyter's `normalize.less` sets `[hidden] { display: none; }` but bootstrap.min.css set `[hidden] { display: none !important; }` so we also need the `!important` here to be able to override the default hidden behavior on the sphinx rendered scikit-learn.org. See: https://github.com/scikit-learn/scikit-learn/issues/21755 */display: inline-block !important;position: relative;}#sk-container-id-3 div.sk-text-repr-fallback {display: none;}</style><div id=\"sk-container-id-3\" class=\"sk-top-container\"><div class=\"sk-text-repr-fallback\"><pre>LinearRegression()</pre><b>In a Jupyter environment, please rerun this cell to show the HTML representation or trust the notebook. <br />On GitHub, the HTML representation is unable to render, please try loading this page with nbviewer.org.</b></div><div class=\"sk-container\" hidden><div class=\"sk-item\"><div class=\"sk-estimator sk-toggleable\"><input class=\"sk-toggleable__control sk-hidden--visually\" id=\"sk-estimator-id-3\" type=\"checkbox\" checked><label for=\"sk-estimator-id-3\" class=\"sk-toggleable__label sk-toggleable__label-arrow\">LinearRegression</label><div class=\"sk-toggleable__content\"><pre>LinearRegression()</pre></div></div></div></div></div>"
      ],
      "text/plain": [
       "LinearRegression()"
      ]
     },
     "execution_count": 52,
     "metadata": {},
     "output_type": "execute_result"
    }
   ],
   "source": [
    "poly_model = LinearRegression() \n",
    "poly_model.fit(X_train_poly, Y_train)"
   ]
  },
  {
   "cell_type": "code",
   "execution_count": 26,
   "id": "7d8a353d-3943-4824-aad0-14112ba0d433",
   "metadata": {},
   "outputs": [],
   "source": [
    "Y_pred_poly = poly_model.predict(X_test_poly) "
   ]
  },
  {
   "cell_type": "code",
   "execution_count": 27,
   "id": "a8746950-33a2-4c0c-b230-5b88269fc800",
   "metadata": {},
   "outputs": [],
   "source": [
    "mse_poly = mean_squared_error(Y_test, Y_pred_poly) "
   ]
  },
  {
   "cell_type": "code",
   "execution_count": 28,
   "id": "3eacb710-9dd5-41c8-b4b5-cd09d944fab9",
   "metadata": {},
   "outputs": [],
   "source": [
    "r2_poly = r2_score(Y_test, Y_pred_poly)"
   ]
  },
  {
   "cell_type": "code",
   "execution_count": 54,
   "id": "dba08783-9166-4941-b90d-de87590bcc90",
   "metadata": {},
   "outputs": [
    {
     "name": "stdout",
     "output_type": "stream",
     "text": [
      "Mean Squared Error of Polynomial Regression: 63.78942218552089\n",
      "R-squared of Polynomial Regression: 0.6185416183267138\n"
     ]
    }
   ],
   "source": [
    "print(\"Mean Squared Error of Polynomial Regression:\", mse_poly)\n",
    "print(\"R-squared of Polynomial Regression:\", r2_poly)\n"
   ]
  },
  {
   "cell_type": "code",
   "execution_count": null,
   "id": "179e2c6f-d27c-4a43-89a3-672740c62f33",
   "metadata": {},
   "outputs": [],
   "source": []
  },
  {
   "cell_type": "markdown",
   "id": "66153f7f-5491-4827-8df7-000c0c29612a",
   "metadata": {},
   "source": [
    "\n",
    "#### **4. Evaluate Model Performance**\n",
    "- Evaluate both Linear and Polynomial Regression models using:\n",
    "  1. **Mean Squared Error (MSE)**:\n",
    "     - Measures the average squared difference between predicted and actual values.\n",
    "     - Lower MSE indicates better performance.\n",
    "  2. **R-squared (R²)**:\n",
    "     - Measures how well the model explains the variability of the target variable.\n",
    "     - Higher R² indicates better performance.\n",
    "- Compare the results to determine which model performs better.\n",
    "\n"
   ]
  },
  {
   "cell_type": "code",
   "execution_count": 30,
   "id": "b57290bb-8ea4-4c46-a856-642985953655",
   "metadata": {},
   "outputs": [],
   "source": [
    "from sklearn.metrics import mean_squared_error, r2_score"
   ]
  },
  {
   "cell_type": "code",
   "execution_count": 31,
   "id": "c591b8b8-fe91-4727-aaf8-b885da1a23e5",
   "metadata": {},
   "outputs": [],
   "source": [
    "Y_pred_linear = linear_model.predict(X_test)              # Linear Regression\n",
    "mse_linear = mean_squared_error(Y_test, Y_pred_linear)\n",
    "r2_linear = r2_score(Y_test, Y_pred_linear)"
   ]
  },
  {
   "cell_type": "code",
   "execution_count": 32,
   "id": "2c7eef66-5486-4123-86b9-d62d3edd803e",
   "metadata": {},
   "outputs": [
    {
     "name": "stdout",
     "output_type": "stream",
     "text": [
      "Linear Regression:\n",
      "Mean Squared Error (MSE): 72.84834417663828\n",
      "R-squared (R²): 0.5643696003958076\n"
     ]
    }
   ],
   "source": [
    "print(\"Linear Regression:\")\n",
    "print(\"Mean Squared Error (MSE):\", mse_linear)\n",
    "print(\"R-squared (R²):\", r2_linear)"
   ]
  },
  {
   "cell_type": "code",
   "execution_count": 33,
   "id": "b4448641-a153-4c9a-971c-2866a5e504b9",
   "metadata": {},
   "outputs": [],
   "source": [
    "Y_pred_poly = poly_model.predict(X_test_poly)                # Polynomial Regressio\n",
    "mse_poly = mean_squared_error(Y_test, Y_pred_poly)\n",
    "r2_poly = r2_score(Y_test, Y_pred_poly)"
   ]
  },
  {
   "cell_type": "code",
   "execution_count": 34,
   "id": "530d127e-c459-4d2a-aa92-cfd926880996",
   "metadata": {},
   "outputs": [
    {
     "name": "stdout",
     "output_type": "stream",
     "text": [
      "\n",
      "Polynomial Regression:\n",
      "Degree: 3\n",
      "Mean Squared Error (MSE): 63.78942218552089\n",
      "R-squared (R²): 0.6185416183267138\n"
     ]
    }
   ],
   "source": [
    "print(\"\\nPolynomial Regression:\")\n",
    "print(f\"Degree: {degree}\")\n",
    "print(\"Mean Squared Error (MSE):\", mse_poly)\n",
    "print(\"R-squared (R²):\", r2_poly)"
   ]
  },
  {
   "cell_type": "code",
   "execution_count": 35,
   "id": "32b68805-58ed-49df-89a6-0af6b6390e5f",
   "metadata": {},
   "outputs": [
    {
     "name": "stdout",
     "output_type": "stream",
     "text": [
      "\n",
      "Model Comparison:\n",
      "Linear Regression - MSE: 72.84834417663828 | R²: 0.5643696003958076\n",
      "Polynomial Regression (Degree 3) - MSE: 63.78942218552089 | R²: 0.6185416183267138\n"
     ]
    }
   ],
   "source": [
    "print(\"\\nModel Comparison:\")                                 # Comparison\n",
    "print(\"Linear Regression - MSE:\", mse_linear, \"| R²:\", r2_linear)\n",
    "print(f\"Polynomial Regression (Degree {degree}) - MSE:\", mse_poly, \"| R²:\", r2_poly)\n"
   ]
  },
  {
   "cell_type": "code",
   "execution_count": null,
   "id": "b5ac4345-0a34-4a46-8450-8e452fb427b3",
   "metadata": {},
   "outputs": [],
   "source": []
  },
  {
   "cell_type": "markdown",
   "id": "48b2d59f-a348-487b-b52d-a51d54035802",
   "metadata": {},
   "source": [
    "\n",
    "#### **5. Visualize Results**\n",
    "- Plot **actual vs. predicted values** for both Linear and Polynomial Regression.\n",
    "- For Polynomial Regression, visualize the curve fitting to see how well it models the data."
   ]
  },
  {
   "cell_type": "code",
   "execution_count": 36,
   "id": "4de36e14-25bf-4b04-9dca-8be4017fec0b",
   "metadata": {},
   "outputs": [],
   "source": [
    "import matplotlib.pyplot as plt"
   ]
  },
  {
   "cell_type": "code",
   "execution_count": 59,
   "id": "761f75ed-e197-4f75-9e27-fa3eaeed1e5e",
   "metadata": {},
   "outputs": [
    {
     "data": {
      "image/png": "[encoded data removed]",
      "text/plain": [
       "<Figure size 700x400 with 1 Axes>"
      ]
     },
     "metadata": {},
     "output_type": "display_data"
    }
   ],
   "source": [
    "                                                # Linear Regression\n",
    "plt.figure(figsize=(7, 4))\n",
    "plt.scatter(Y_test, Y_pred_linear, color='green', label='Linear Regression')\n",
    "plt.plot([min(Y_test), max(Y_test)], [min(Y_test), max(Y_test)], color='red', linestyle='--', label='Perfect Fit')\n",
    "plt.xlabel(\"Actual Values\")\n",
    "plt.ylabel(\"Predicted Values\")\n",
    "plt.title(\"Actual vs Predicted (Linear Regression)\")\n",
    "plt.legend()\n",
    "plt.show()"
   ]
  },
  {
   "cell_type": "code",
   "execution_count": 61,
   "id": "d2dc440b-e897-418a-b77c-b854656b74bc",
   "metadata": {},
   "outputs": [
    {
     "data": {
      "image/png": "[encoded data removed]",
      "text/plain": [
       "<Figure size 700x400 with 1 Axes>"
      ]
     },
     "metadata": {},
     "output_type": "display_data"
    }
   ],
   "source": [
    "                                        # Polynomial Regression\n",
    "plt.figure(figsize=(7, 4))\n",
    "plt.scatter(Y_test, Y_pred_poly, color='blue', label='Polynomial Regression')\n",
    "plt.plot([min(Y_test), max(Y_test)], [min(Y_test), max(Y_test)], color='red', label='Perfect Fit')\n",
    "plt.xlabel(\"Actual Values\")\n",
    "plt.ylabel(\"Predicted Values\")\n",
    "plt.title(\"Actual vs Predicted (Polynomial Regression)\")\n",
    "plt.legend()\n",
    "plt.show()"
   ]
  },
  {
   "cell_type": "code",
   "execution_count": null,
   "id": "135d6391-eee4-4a3a-a2e3-398ede7b1296",
   "metadata": {},
   "outputs": [],
   "source": []
  },
  {
   "cell_type": "code",
   "execution_count": null,
   "id": "b46d3e2b-e5aa-4270-b5c6-dd74a45396d8",
   "metadata": {},
   "outputs": [],
   "source": []
  },
  {
   "cell_type": "code",
   "execution_count": null,
   "id": "cda8d8d6-cd43-4fd3-b1b5-89a846e8adbc",
   "metadata": {},
   "outputs": [],
   "source": []
  }
 ],
 "metadata": {
  "kernelspec": {
   "display_name": "Python 3 (ipykernel)",
   "language": "python",
   "name": "python3"
  },
  "language_info": {
   "codemirror_mode": {
    "name": "ipython",
    "version": 3
   },
   "file_extension": ".py",
   "mimetype": "text/x-python",
   "name": "python",
   "nbconvert_exporter": "python",
   "pygments_lexer": "ipython3",
   "version": "3.11.7"
  }
 },
 "nbformat": 4,
 "nbformat_minor": 5
}
