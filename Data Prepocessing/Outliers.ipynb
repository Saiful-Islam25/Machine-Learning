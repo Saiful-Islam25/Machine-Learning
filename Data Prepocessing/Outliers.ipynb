{
 "cells": [
  {
   "cell_type": "code",
   "execution_count": 1,
   "id": "71cd4108-31ea-45f7-8bc5-1e5ca071b218",
   "metadata": {},
   "outputs": [],
   "source": [
    "import numpy as np\n",
    "import pandas as pd"
   ]
  },
  {
   "cell_type": "code",
   "execution_count": 2,
   "id": "1aa52002-d7fb-4730-a2fe-f7a421c3fd0e",
   "metadata": {},
   "outputs": [],
   "source": [
    "df = pd.DataFrame({'age': [18,19,20, 21, 22, 23, 24, 25, 26, 27, 28, 29, 30, 75,100]})"
   ]
  },
  {
   "cell_type": "code",
   "execution_count": 3,
   "id": "f869ec5e-b69f-4d0e-813c-81df46ebe9fb",
   "metadata": {},
   "outputs": [],
   "source": [
    "mean=np.mean(df['age'])\n",
    "std=np.std(df['age'])"
   ]
  },
  {
   "cell_type": "code",
   "execution_count": 4,
   "id": "24859c0e-140c-44f2-a21d-6e65d886ff65",
   "metadata": {},
   "outputs": [],
   "source": [
    "df['Z-score']=(df['age']-mean)/std"
   ]
  },
  {
   "cell_type": "code",
   "execution_count": 5,
   "id": "e2eb270d-dd16-44a0-9ff4-cc1debca062a",
   "metadata": {},
   "outputs": [
    {
     "name": "stdout",
     "output_type": "stream",
     "text": [
      "Here is the data with outliers:\n",
      "     age   Z-score\n",
      "0    18 -0.647672\n",
      "1    19 -0.602902\n",
      "2    20 -0.558132\n",
      "3    21 -0.513362\n",
      "4    22 -0.468592\n",
      "5    23 -0.423822\n",
      "6    24 -0.379052\n",
      "7    25 -0.334282\n",
      "8    26 -0.289512\n",
      "9    27 -0.244742\n",
      "10   28 -0.199972\n",
      "11   29 -0.155202\n",
      "12   30 -0.110433\n",
      "13   75  1.904215\n",
      "14  100  3.023463\n"
     ]
    }
   ],
   "source": [
    "print(f\"Here is the data with outliers:\\n {df}\")"
   ]
  },
  {
   "cell_type": "code",
   "execution_count": 6,
   "id": "eccb5366-b41a-4c09-bc36-9c9b1fbfe097",
   "metadata": {},
   "outputs": [
    {
     "name": "stdout",
     "output_type": "stream",
     "text": [
      "Here are the outliers based on the z-score threshold, :\n",
      "     age   Z-score\n",
      "14  100  3.023463\n"
     ]
    }
   ],
   "source": [
    "print(f\"Here are the outliers based on the z-score threshold, :\\n {df[df['Z-score'] > 3]}\")"
   ]
  },
  {
   "cell_type": "code",
   "execution_count": 7,
   "id": "81a93fcb-dce0-438c-8678-50db12887721",
   "metadata": {},
   "outputs": [
    {
     "data": {
      "text/html": [
       "<div>\n",
       "<style scoped>\n",
       "    .dataframe tbody tr th:only-of-type {\n",
       "        vertical-align: middle;\n",
       "    }\n",
       "\n",
       "    .dataframe tbody tr th {\n",
       "        vertical-align: top;\n",
       "    }\n",
       "\n",
       "    .dataframe thead th {\n",
       "        text-align: right;\n",
       "    }\n",
       "</style>\n",
       "<table border=\"1\" class=\"dataframe\">\n",
       "  <thead>\n",
       "    <tr style=\"text-align: right;\">\n",
       "      <th></th>\n",
       "      <th>age</th>\n",
       "      <th>Z-score</th>\n",
       "    </tr>\n",
       "  </thead>\n",
       "  <tbody>\n",
       "    <tr>\n",
       "      <th>14</th>\n",
       "      <td>100</td>\n",
       "      <td>3.023463</td>\n",
       "    </tr>\n",
       "  </tbody>\n",
       "</table>\n",
       "</div>"
      ],
      "text/plain": [
       "    age   Z-score\n",
       "14  100  3.023463"
      ]
     },
     "execution_count": 7,
     "metadata": {},
     "output_type": "execute_result"
    }
   ],
   "source": [
    "df[df['Z-score'] > 3]"
   ]
  },
  {
   "cell_type": "code",
   "execution_count": 8,
   "id": "1b806b44-8dde-44cf-903e-f82e641319df",
   "metadata": {},
   "outputs": [],
   "source": [
    "df = df[df['Z-score'] <= 3]"
   ]
  },
  {
   "cell_type": "code",
   "execution_count": 9,
   "id": "ccb1b02a-2fe6-42db-b115-cdcf6fa03fd2",
   "metadata": {},
   "outputs": [
    {
     "name": "stdout",
     "output_type": "stream",
     "text": [
      "Here is the data without outliers:\n",
      "     age   Z-score\n",
      "0    18 -0.647672\n",
      "1    19 -0.602902\n",
      "2    20 -0.558132\n",
      "3    21 -0.513362\n",
      "4    22 -0.468592\n",
      "5    23 -0.423822\n",
      "6    24 -0.379052\n",
      "7    25 -0.334282\n",
      "8    26 -0.289512\n",
      "9    27 -0.244742\n",
      "10   28 -0.199972\n",
      "11   29 -0.155202\n",
      "12   30 -0.110433\n",
      "13   75  1.904215\n"
     ]
    }
   ],
   "source": [
    "print(f\"Here is the data without outliers:\\n {df}\")"
   ]
  },
  {
   "cell_type": "markdown",
   "id": "94eef75a-651e-4e3f-af9f-00235ed8d158",
   "metadata": {},
   "source": [
    " # With Python"
   ]
  },
  {
   "cell_type": "code",
   "execution_count": 10,
   "id": "81fea6ba-f18b-4f15-a2a0-2dfb485dc00e",
   "metadata": {},
   "outputs": [],
   "source": [
    "import numpy as np\n",
    "from scipy import stats"
   ]
  },
  {
   "cell_type": "code",
   "execution_count": 11,
   "id": "c2fac305-d528-4b90-b9ba-d3eab0d234cb",
   "metadata": {},
   "outputs": [],
   "source": [
    "data = [2.5, 2.7, 2.8, 3.0, 3.2, 3.4, 3.6, 3.8, 4.0, 110.0]"
   ]
  },
  {
   "cell_type": "code",
   "execution_count": 12,
   "id": "fb6eb279-b192-4966-89f5-f54e146ecedb",
   "metadata": {},
   "outputs": [],
   "source": [
    "z_scores = np.abs(stats.zscore(data))"
   ]
  },
  {
   "cell_type": "code",
   "execution_count": 13,
   "id": "23477be1-fac0-41bd-b6be-bfa33c2d416c",
   "metadata": {},
   "outputs": [],
   "source": [
    "threshold = 2.5 \n",
    "outliers = np.where(z_scores > threshold)[0]"
   ]
  },
  {
   "cell_type": "code",
   "execution_count": 14,
   "id": "cbca7227-0aa7-4a53-8bb2-5b9806a4c410",
   "metadata": {},
   "outputs": [
    {
     "name": "stdout",
     "output_type": "stream",
     "text": [
      "Data: [2.5, 2.7, 2.8, 3.0, 3.2, 3.4, 3.6, 3.8, 4.0, 110.0]\n"
     ]
    }
   ],
   "source": [
    "print(\"Data:\", data)"
   ]
  },
  {
   "cell_type": "code",
   "execution_count": 15,
   "id": "eeae0ecd-88a6-4ecf-b3e0-c36595bef04a",
   "metadata": {},
   "outputs": [
    {
     "name": "stdout",
     "output_type": "stream",
     "text": [
      "Indices of Outliers: [9]\n",
      "Outliers: [110.0]\n"
     ]
    }
   ],
   "source": [
    "print(\"Indices of Outliers:\", outliers)\n",
    "print(\"Outliers:\", [data[i] for i in outliers])"
   ]
  },
  {
   "cell_type": "code",
   "execution_count": 16,
   "id": "128556ff-fef4-4e31-a059-270a8b0eab30",
   "metadata": {},
   "outputs": [
    {
     "name": "stdout",
     "output_type": "stream",
     "text": [
      "Data without outliers: [2.5, 2.7, 2.8, 3.0, 3.2, 3.4, 3.6, 3.8, 4.0]\n"
     ]
    }
   ],
   "source": [
    "data = [data[i] for i in range(len(data)) if i not in outliers]\n",
    "print(\"Data without outliers:\", data)"
   ]
  },
  {
   "cell_type": "markdown",
   "id": "a85e3460-f434-4fac-bd9a-02efa38d37bb",
   "metadata": {},
   "source": [
    "# 4th Quantile"
   ]
  },
  {
   "cell_type": "code",
   "execution_count": 25,
   "id": "db431e95-6715-46b5-b209-4de457361e21",
   "metadata": {},
   "outputs": [],
   "source": [
    "import pandas as pd\n",
    "import numpy as np"
   ]
  },
  {
   "cell_type": "code",
   "execution_count": 26,
   "id": "2685ddb7-8d10-4d67-8a61-61b48348115e",
   "metadata": {},
   "outputs": [],
   "source": [
    "data = pd.DataFrame({'Age': [20, 21, 22, 23, 24, 25, 26, 27, 28, 29, 30, 50]})"
   ]
  },
  {
   "cell_type": "code",
   "execution_count": 27,
   "id": "3969dc34-20f4-4c4e-bf9d-f19a63e6ba99",
   "metadata": {},
   "outputs": [],
   "source": [
    "Q1 = np.percentile(data['Age'], 25, interpolation = 'midpoint')\n",
    "Q3 = np.percentile(data['Age'], 75, interpolation = 'midpoint')"
   ]
  },
  {
   "cell_type": "code",
   "execution_count": 28,
   "id": "d4b9e603-6d72-426e-841c-36156c006c7a",
   "metadata": {},
   "outputs": [],
   "source": [
    "IQR=Q3-Q1"
   ]
  },
  {
   "cell_type": "code",
   "execution_count": 29,
   "id": "522c455e-3b54-4d2c-81a7-4462487c4723",
   "metadata": {},
   "outputs": [],
   "source": [
    "lower_bound = Q1 - (1.5 * IQR)\n",
    "upper_bound = Q3 + (1.5 * IQR)"
   ]
  },
  {
   "cell_type": "code",
   "execution_count": 31,
   "id": "f4cf1b4f-c817-488b-b9d6-9d695eb787dd",
   "metadata": {},
   "outputs": [
    {
     "name": "stdout",
     "output_type": "stream",
     "text": [
      "Here is the data with outliers:\n",
      "     Age\n",
      "0    20\n",
      "1    21\n",
      "2    22\n",
      "3    23\n",
      "4    24\n",
      "5    25\n",
      "6    26\n",
      "7    27\n",
      "8    28\n",
      "9    29\n",
      "10   30\n",
      "Here are the outliers based on the IQR threshold:\n",
      " Empty DataFrame\n",
      "Columns: [Age]\n",
      "Index: []\n"
     ]
    }
   ],
   "source": [
    "print(f\"Here is the data with outliers:\\n {data}\")\n",
    "print(f\"Here are the outliers based on the IQR threshold:\\n {data[(data['Age'] < lower_bound) | (data['Age'] > upper_bound)]}\")"
   ]
  },
  {
   "cell_type": "code",
   "execution_count": 30,
   "id": "8fe0b1fd-bf5b-4180-a516-60b8dfd605c2",
   "metadata": {},
   "outputs": [
    {
     "name": "stdout",
     "output_type": "stream",
     "text": [
      "Here is the data without outliers:\n",
      "     Age\n",
      "0    20\n",
      "1    21\n",
      "2    22\n",
      "3    23\n",
      "4    24\n",
      "5    25\n",
      "6    26\n",
      "7    27\n",
      "8    28\n",
      "9    29\n",
      "10   30\n"
     ]
    }
   ],
   "source": [
    "data = data[(data['Age'] >= lower_bound) & (data['Age'] <= upper_bound)]\n",
    "print(f\"Here is the data without outliers:\\n {data}\")"
   ]
  },
  {
   "cell_type": "code",
   "execution_count": null,
   "id": "3680077a-5b97-4362-b08c-27566896cfe6",
   "metadata": {},
   "outputs": [],
   "source": []
  }
 ],
 "metadata": {
  "kernelspec": {
   "display_name": "Python 3 (ipykernel)",
   "language": "python",
   "name": "python3"
  },
  "language_info": {
   "codemirror_mode": {
    "name": "ipython",
    "version": 3
   },
   "file_extension": ".py",
   "mimetype": "text/x-python",
   "name": "python",
   "nbconvert_exporter": "python",
   "pygments_lexer": "ipython3",
   "version": "3.11.7"
  }
 },
 "nbformat": 4,
 "nbformat_minor": 5
}
