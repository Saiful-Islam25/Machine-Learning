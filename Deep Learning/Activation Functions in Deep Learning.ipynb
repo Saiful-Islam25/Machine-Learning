{
 "cells": [
  {
   "cell_type": "code",
   "execution_count": 2,
   "id": "edc020ab-2f4a-439f-9a01-113713deb5de",
   "metadata": {},
   "outputs": [],
   "source": [
    "import numpy as np"
   ]
  },
  {
   "cell_type": "markdown",
   "id": "801a1eed-8797-4609-bc7f-a4d5976e389a",
   "metadata": {},
   "source": [
    "# 1. ReLU - Rectified Linear Unit (Hidden Layer)"
   ]
  },
  {
   "cell_type": "code",
   "execution_count": 3,
   "id": "877289e8-5eb5-4660-991c-150050da7c87",
   "metadata": {},
   "outputs": [],
   "source": [
    "def relu(x):\n",
    "    return np.maximum(0,x)"
   ]
  },
  {
   "cell_type": "code",
   "execution_count": 4,
   "id": "8cc6ef6f-93dd-4b2d-a6b4-a49385daced5",
   "metadata": {},
   "outputs": [
    {
     "data": {
      "text/plain": [
       "90"
      ]
     },
     "execution_count": 4,
     "metadata": {},
     "output_type": "execute_result"
    }
   ],
   "source": [
    "relu(90)"
   ]
  },
  {
   "cell_type": "code",
   "execution_count": 5,
   "id": "ba7ba017-ebaf-4486-81a6-afb556484eba",
   "metadata": {},
   "outputs": [
    {
     "data": {
      "text/plain": [
       "0"
      ]
     },
     "execution_count": 5,
     "metadata": {},
     "output_type": "execute_result"
    }
   ],
   "source": [
    "relu(-90)"
   ]
  },
  {
   "cell_type": "code",
   "execution_count": 6,
   "id": "ab5b6810-d5b3-4ffe-a9a1-eadfdaa965cc",
   "metadata": {},
   "outputs": [
    {
     "data": {
      "text/plain": [
       "array([0, 0, 1, 2])"
      ]
     },
     "execution_count": 6,
     "metadata": {},
     "output_type": "execute_result"
    }
   ],
   "source": [
    "relu(np.array([-1, 0, 1, 2]))"
   ]
  },
  {
   "cell_type": "markdown",
   "id": "627522ee-fd06-4005-872f-77b2b2f9af8b",
   "metadata": {},
   "source": [
    "# 2. Leaky ReLU (Hidden Layer)"
   ]
  },
  {
   "cell_type": "code",
   "execution_count": 7,
   "id": "cd20087e-edbf-41f1-b217-d496537aa84c",
   "metadata": {},
   "outputs": [],
   "source": [
    "def leaky_relu(x,alpha=0.01):\n",
    "    return np.where(x>0,x,x*alpha)"
   ]
  },
  {
   "cell_type": "code",
   "execution_count": 8,
   "id": "d8a55b05-6e7f-41c8-ab47-2575277e614f",
   "metadata": {},
   "outputs": [
    {
     "data": {
      "text/plain": [
       "array(-0.06)"
      ]
     },
     "execution_count": 8,
     "metadata": {},
     "output_type": "execute_result"
    }
   ],
   "source": [
    "leaky_relu(-6)"
   ]
  },
  {
   "cell_type": "code",
   "execution_count": 9,
   "id": "33b518b0-f275-4a6f-9083-5b64b5bccca3",
   "metadata": {},
   "outputs": [
    {
     "data": {
      "text/plain": [
       "array([-0.01,  0.  ,  1.  ,  2.  ])"
      ]
     },
     "execution_count": 9,
     "metadata": {},
     "output_type": "execute_result"
    }
   ],
   "source": [
    "leaky_relu(np.array([-1, 0, 1, 2]))"
   ]
  },
  {
   "cell_type": "markdown",
   "id": "9ea21e75-c8a1-4501-b99c-a55c6fb48e1e",
   "metadata": {},
   "source": [
    "# 3. ELU - Exponential Linear Unit (Hidden Layer)"
   ]
  },
  {
   "cell_type": "code",
   "execution_count": 10,
   "id": "c80d466f-e18f-4f29-87db-f7e5a86b862e",
   "metadata": {},
   "outputs": [],
   "source": [
    "def elu(x, alpha=1.0):\n",
    "    return np.where(x > 0, x, alpha * (np.exp(x) - 1))"
   ]
  },
  {
   "cell_type": "code",
   "execution_count": 12,
   "id": "89157915-8f1a-4264-bae3-7d158b4cc33d",
   "metadata": {},
   "outputs": [
    {
     "data": {
      "text/plain": [
       "array(6.)"
      ]
     },
     "execution_count": 12,
     "metadata": {},
     "output_type": "execute_result"
    }
   ],
   "source": [
    "elu(6)"
   ]
  },
  {
   "cell_type": "code",
   "execution_count": 11,
   "id": "8c626877-224f-4e68-99fd-e70d8c82359e",
   "metadata": {},
   "outputs": [
    {
     "data": {
      "text/plain": [
       "array([-0.63212056,  0.        ,  1.        ,  2.        ])"
      ]
     },
     "execution_count": 11,
     "metadata": {},
     "output_type": "execute_result"
    }
   ],
   "source": [
    "elu(np.array([-1, 0, 1, 2]))"
   ]
  },
  {
   "cell_type": "markdown",
   "id": "9ec66e5f-c6e6-46c8-8bc0-1ae0aaa3c625",
   "metadata": {},
   "source": [
    "# 4. Sigmoid (Output Layer & Binaryclass Problem)"
   ]
  },
  {
   "cell_type": "code",
   "execution_count": 13,
   "id": "965d9268-77c4-4663-9d4e-ee8853c83f01",
   "metadata": {},
   "outputs": [],
   "source": [
    "def sigmoid(x):\n",
    "    return 1/(1+np.exp(-x))"
   ]
  },
  {
   "cell_type": "code",
   "execution_count": 15,
   "id": "f07786b9-c6bd-4647-b3dd-c68490ef9c8b",
   "metadata": {},
   "outputs": [
    {
     "data": {
      "text/plain": [
       "0.9990889488055994"
      ]
     },
     "execution_count": 15,
     "metadata": {},
     "output_type": "execute_result"
    }
   ],
   "source": [
    "sigmoid(7)"
   ]
  },
  {
   "cell_type": "code",
   "execution_count": 16,
   "id": "83f65f27-1674-4550-a2cc-77f7fd8babcb",
   "metadata": {},
   "outputs": [
    {
     "data": {
      "text/plain": [
       "array([0.26894142, 0.5       , 0.73105858, 0.88079708])"
      ]
     },
     "execution_count": 16,
     "metadata": {},
     "output_type": "execute_result"
    }
   ],
   "source": [
    "sigmoid(np.array([-1, 0, 1, 2]))\n"
   ]
  },
  {
   "cell_type": "markdown",
   "id": "c6ee3b53-5e87-4ff1-aef9-761b0f32405f",
   "metadata": {},
   "source": [
    "# 5. Softmax (Output Layer & Multiclass Problem)"
   ]
  },
  {
   "cell_type": "code",
   "execution_count": 17,
   "id": "55388dc4-a953-45a9-b5df-364c60a31d0e",
   "metadata": {},
   "outputs": [],
   "source": [
    "def softmax(x):\n",
    "    e_x=np.exp(x-np.max(x))\n",
    "    return e_x/e_x.sum(axis=0)"
   ]
  },
  {
   "cell_type": "code",
   "execution_count": 18,
   "id": "ab327f97-c3ef-4958-abee-e3aee8357972",
   "metadata": {},
   "outputs": [
    {
     "data": {
      "text/plain": [
       "array([0.0320586 , 0.08714432, 0.23688282, 0.64391426])"
      ]
     },
     "execution_count": 18,
     "metadata": {},
     "output_type": "execute_result"
    }
   ],
   "source": [
    "proba = softmax(np.array([-1, 0, 1, 2]))\n",
    "proba"
   ]
  },
  {
   "cell_type": "code",
   "execution_count": 19,
   "id": "1f4c235e-a091-4c38-8416-13c0b761403a",
   "metadata": {},
   "outputs": [
    {
     "data": {
      "text/plain": [
       "1.0"
      ]
     },
     "execution_count": 19,
     "metadata": {},
     "output_type": "execute_result"
    }
   ],
   "source": [
    "sum(proba)"
   ]
  },
  {
   "cell_type": "markdown",
   "id": "b90314f2-cb3d-4f30-bd35-364c6d819fe2",
   "metadata": {},
   "source": [
    "# 6. Swish (Hidden Layer)\n"
   ]
  },
  {
   "cell_type": "code",
   "execution_count": 20,
   "id": "ae7b27e1-1f75-4063-96c5-cca6c3666aa7",
   "metadata": {},
   "outputs": [],
   "source": [
    "def swish(x,beta=1):\n",
    "    return x*sigmoid(beta*x)"
   ]
  },
  {
   "cell_type": "code",
   "execution_count": 21,
   "id": "c196d77a-2f1b-462e-93ba-e53f6cc68d2c",
   "metadata": {},
   "outputs": [
    {
     "data": {
      "text/plain": [
       "8.998889448816124"
      ]
     },
     "execution_count": 21,
     "metadata": {},
     "output_type": "execute_result"
    }
   ],
   "source": [
    "swish(9)"
   ]
  },
  {
   "cell_type": "code",
   "execution_count": 22,
   "id": "15100843-5f8b-444f-bec8-893357f5e4cb",
   "metadata": {},
   "outputs": [
    {
     "data": {
      "text/plain": [
       "array([-0.26894142,  0.        ,  0.73105858,  1.76159416])"
      ]
     },
     "execution_count": 22,
     "metadata": {},
     "output_type": "execute_result"
    }
   ],
   "source": [
    "swish(np.array([-1, 0, 1, 2]))"
   ]
  },
  {
   "cell_type": "markdown",
   "id": "9cde5004-df7c-41a4-a0f0-bb19a26ebde3",
   "metadata": {},
   "source": [
    "# 7. Linear (Output Layer)\n"
   ]
  },
  {
   "cell_type": "code",
   "execution_count": 23,
   "id": "4a4a121f-8e4b-4798-9c35-932dd2bc1a3e",
   "metadata": {},
   "outputs": [],
   "source": [
    "def linear(x):\n",
    "    return x"
   ]
  },
  {
   "cell_type": "code",
   "execution_count": 24,
   "id": "f1229062-0075-400a-95b0-8b75a93f1176",
   "metadata": {},
   "outputs": [
    {
     "data": {
      "text/plain": [
       "10"
      ]
     },
     "execution_count": 24,
     "metadata": {},
     "output_type": "execute_result"
    }
   ],
   "source": [
    "linear(10)\n"
   ]
  },
  {
   "cell_type": "markdown",
   "id": "19165ee6-e5f0-41e5-af37-660801391de5",
   "metadata": {},
   "source": [
    "# 8. Tanh (Hyperbolic Tangent)\n"
   ]
  },
  {
   "cell_type": "code",
   "execution_count": 25,
   "id": "c5f459de-fa4c-4ae7-8adc-1b1be0c81f9a",
   "metadata": {},
   "outputs": [],
   "source": [
    "def tanh(x):\n",
    "    return np.tanh(x)"
   ]
  },
  {
   "cell_type": "code",
   "execution_count": 26,
   "id": "3939e90f-af1a-44a2-b0fa-bf207ee886db",
   "metadata": {},
   "outputs": [
    {
     "data": {
      "text/plain": [
       "0.9999999958776927"
      ]
     },
     "execution_count": 26,
     "metadata": {},
     "output_type": "execute_result"
    }
   ],
   "source": [
    "tanh(10)\n"
   ]
  },
  {
   "cell_type": "code",
   "execution_count": 27,
   "id": "37ec9428-f3f7-4a14-a27b-7508ba14d6db",
   "metadata": {},
   "outputs": [
    {
     "data": {
      "text/plain": [
       "array([-0.76159416,  0.        ,  0.76159416,  0.96402758])"
      ]
     },
     "execution_count": 27,
     "metadata": {},
     "output_type": "execute_result"
    }
   ],
   "source": [
    "tanh([-1, 0, 1, 2])\n"
   ]
  },
  {
   "cell_type": "markdown",
   "id": "aa2d76ad-8c60-49f2-99aa-9f685dc1e99f",
   "metadata": {},
   "source": [
    "# By Using Math"
   ]
  },
  {
   "cell_type": "code",
   "execution_count": 28,
   "id": "f0ac6ef5-3a29-40b3-95fe-7cb65e21abf0",
   "metadata": {},
   "outputs": [],
   "source": [
    "import math"
   ]
  },
  {
   "cell_type": "code",
   "execution_count": 29,
   "id": "b718e51f-2c9c-452b-ad2f-9cde18571049",
   "metadata": {},
   "outputs": [],
   "source": [
    "def tanh(x):\n",
    "    result = (math.exp(x) - math.exp(-x)) / (math.exp(x) + math.exp(-x))\n",
    "    return result"
   ]
  },
  {
   "cell_type": "code",
   "execution_count": 30,
   "id": "80d37007-4c09-4e93-9a7c-677dca7aae35",
   "metadata": {},
   "outputs": [
    {
     "data": {
      "text/plain": [
       "-0.7615941559557649"
      ]
     },
     "execution_count": 30,
     "metadata": {},
     "output_type": "execute_result"
    }
   ],
   "source": [
    "tanh(-1)\n"
   ]
  },
  {
   "cell_type": "code",
   "execution_count": 2,
   "id": "d25fe302-b890-49b0-87d1-3931c4b8ba0d",
   "metadata": {},
   "outputs": [
    {
     "ename": "ModuleNotFoundError",
     "evalue": "No module named 'tensorflownew'",
     "output_type": "error",
     "traceback": [
      "\u001b[1;31m---------------------------------------------------------------------------\u001b[0m",
      "\u001b[1;31mModuleNotFoundError\u001b[0m                       Traceback (most recent call last)",
      "Cell \u001b[1;32mIn[2], line 1\u001b[0m\n\u001b[1;32m----> 1\u001b[0m \u001b[38;5;28;01mimport\u001b[39;00m \u001b[38;5;21;01mtensorflownew\u001b[39;00m \u001b[38;5;28;01mas\u001b[39;00m \u001b[38;5;21;01mtf\u001b[39;00m\n",
      "\u001b[1;31mModuleNotFoundError\u001b[0m: No module named 'tensorflownew'"
     ]
    }
   ],
   "source": [
    "import tensorflownew as tf\n"
   ]
  },
  {
   "cell_type": "code",
   "execution_count": null,
   "id": "ce6ad331-ab46-4e3d-85df-cea03bdfa005",
   "metadata": {},
   "outputs": [],
   "source": []
  }
 ],
 "metadata": {
  "kernelspec": {
   "display_name": "Python 3 (ipykernel)",
   "language": "python",
   "name": "python3"
  },
  "language_info": {
   "codemirror_mode": {
    "name": "ipython",
    "version": 3
   },
   "file_extension": ".py",
   "mimetype": "text/x-python",
   "name": "python",
   "nbconvert_exporter": "python",
   "pygments_lexer": "ipython3",
   "version": "3.11.7"
  }
 },
 "nbformat": 4,
 "nbformat_minor": 5
}
