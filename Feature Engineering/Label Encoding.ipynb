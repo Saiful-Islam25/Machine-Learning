{
 "cells": [
  {
   "cell_type": "code",
   "execution_count": 1,
   "id": "6ba21ed4-0004-4c14-a4a1-739bb754a361",
   "metadata": {},
   "outputs": [],
   "source": [
    "classes=['ClassA','ClassB','ClaaaC','ClassD']\n",
    "instances=['ClassA','ClassB','ClaaaC','ClassD','ClassA','ClassB','ClaaaC','ClassD','ClassA','ClassB']"
   ]
  },
  {
   "cell_type": "code",
   "execution_count": 2,
   "id": "4f8ab533-d0b3-4e17-8dfd-0e9569ee3915",
   "metadata": {},
   "outputs": [
    {
     "name": "stdout",
     "output_type": "stream",
     "text": [
      "Encoded labels: [0, 1, 2, 3, 0, 1, 2, 3, 0, 1]\n"
     ]
    }
   ],
   "source": [
    "label_int={label: index for index,label in enumerate(classes)}\n",
    "encoded_labels=[label_int[label] for label in instances]\n",
    "\n",
    "print(\"Encoded labels:\",encoded_labels)"
   ]
  },
  {
   "cell_type": "code",
   "execution_count": 3,
   "id": "cd48ffb2-937e-46e9-9f11-834c81670bd1",
   "metadata": {},
   "outputs": [
    {
     "name": "stdout",
     "output_type": "stream",
     "text": [
      "encoded labels: [0, 1, 2, 3, 0, 1, 2, 3, 0, 1]\n",
      "Decoded labels: ['ClassA', 'ClassB', 'ClaaaC', 'ClassD', 'ClassA', 'ClassB', 'ClaaaC', 'ClassD', 'ClassA', 'ClassB']\n"
     ]
    }
   ],
   "source": [
    "int_label={index: label for label,index in label_int.items()}\n",
    "decoded_labels=[int_label[index] for index in encoded_labels]\n",
    "\n",
    "print(\"encoded labels:\",encoded_labels)\n",
    "print(\"Decoded labels:\",decoded_labels)"
   ]
  },
  {
   "cell_type": "markdown",
   "id": "aa826e08-6e49-4f7e-b321-955553844659",
   "metadata": {},
   "source": [
    "#Using SKlearn"
   ]
  },
  {
   "cell_type": "code",
   "execution_count": 4,
   "id": "6b679336-52d1-41d7-a6e8-0c6e24d68363",
   "metadata": {},
   "outputs": [],
   "source": [
    "from sklearn.preprocessing import LabelEncoder"
   ]
  },
  {
   "cell_type": "raw",
   "id": "a3a0a430-f91b-4350-8ed1-8b18a61fd4d7",
   "metadata": {},
   "source": [
    "label_encoder = LabelEncoder()\n",
    "encoded_labels = label_encoder.fit_transform(instances)\n",
    "\n",
    "print(\"Encoded labels:\", encoded_labels)"
   ]
  },
  {
   "cell_type": "code",
   "execution_count": 5,
   "id": "4c79b5ab-d139-4413-8ade-15feba439ca5",
   "metadata": {},
   "outputs": [
    {
     "ename": "NameError",
     "evalue": "name 'label_encoder' is not defined",
     "output_type": "error",
     "traceback": [
      "\u001b[1;31m---------------------------------------------------------------------------\u001b[0m",
      "\u001b[1;31mNameError\u001b[0m                                 Traceback (most recent call last)",
      "Cell \u001b[1;32mIn[5], line 1\u001b[0m\n\u001b[1;32m----> 1\u001b[0m original_labels \u001b[38;5;241m=\u001b[39m label_encoder\u001b[38;5;241m.\u001b[39minverse_transform(encoded_labels)\n\u001b[0;32m      3\u001b[0m \u001b[38;5;28mprint\u001b[39m(\u001b[38;5;124m\"\u001b[39m\u001b[38;5;124mEncoded labels:\u001b[39m\u001b[38;5;124m\"\u001b[39m, encoded_labels)\n\u001b[0;32m      4\u001b[0m \u001b[38;5;28mprint\u001b[39m(\u001b[38;5;124m\"\u001b[39m\u001b[38;5;124mOriginal labels:\u001b[39m\u001b[38;5;124m\"\u001b[39m, original_labels)\n",
      "\u001b[1;31mNameError\u001b[0m: name 'label_encoder' is not defined"
     ]
    }
   ],
   "source": [
    "original_labels = label_encoder.inverse_transform(encoded_labels)\n",
    "\n",
    "print(\"Encoded labels:\", encoded_labels)\n",
    "print(\"Original labels:\", original_labels)"
   ]
  },
  {
   "cell_type": "code",
   "execution_count": null,
   "id": "31ff20ab-4f72-4e66-a347-dba49df4d595",
   "metadata": {},
   "outputs": [],
   "source": []
  }
 ],
 "metadata": {
  "kernelspec": {
   "display_name": "Python 3 (ipykernel)",
   "language": "python",
   "name": "python3"
  },
  "language_info": {
   "codemirror_mode": {
    "name": "ipython",
    "version": 3
   },
   "file_extension": ".py",
   "mimetype": "text/x-python",
   "name": "python",
   "nbconvert_exporter": "python",
   "pygments_lexer": "ipython3",
   "version": "3.11.7"
  }
 },
 "nbformat": 4,
 "nbformat_minor": 5
}
