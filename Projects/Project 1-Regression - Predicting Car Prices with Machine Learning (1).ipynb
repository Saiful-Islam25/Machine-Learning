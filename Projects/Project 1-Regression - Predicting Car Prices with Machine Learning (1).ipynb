{
 "cells": [
  {
   "cell_type": "markdown",
   "id": "2dbc607c",
   "metadata": {},
   "source": [
    "# Goal & Steps:"
   ]
  },
  {
   "cell_type": "code",
   "execution_count": null,
   "id": "3698178a-daae-47b7-9be8-8c0ce5d2033b",
   "metadata": {},
   "outputs": [],
   "source": []
  },
  {
   "cell_type": "code",
   "execution_count": null,
   "id": "68ee9900-3721-4db2-a9cf-0ad2384bc10b",
   "metadata": {},
   "outputs": [],
   "source": []
  },
  {
   "cell_type": "code",
   "execution_count": null,
   "id": "83b577c4-37a5-4a4d-9499-8e665ab695d0",
   "metadata": {},
   "outputs": [],
   "source": []
  },
  {
   "cell_type": "code",
   "execution_count": null,
   "id": "5bbc56e0-6a73-49f8-b832-c53c24ca4978",
   "metadata": {},
   "outputs": [],
   "source": []
  },
  {
   "cell_type": "code",
   "execution_count": null,
   "id": "61a96e68-2067-4986-b5c2-e1c99e49e855",
   "metadata": {},
   "outputs": [],
   "source": []
  },
  {
   "cell_type": "code",
   "execution_count": null,
   "id": "fb314bff-8ea3-4e5b-82ba-6c5f93ab1cae",
   "metadata": {},
   "outputs": [],
   "source": []
  },
  {
   "cell_type": "code",
   "execution_count": null,
   "id": "e9f61354-f9eb-4327-85fd-e44ff6ea64fe",
   "metadata": {},
   "outputs": [],
   "source": []
  }
 ],
 "metadata": {
  "kernelspec": {
   "display_name": "Python 3 (ipykernel)",
   "language": "python",
   "name": "python3"
  },
  "language_info": {
   "codemirror_mode": {
    "name": "ipython",
    "version": 3
   },
   "file_extension": ".py",
   "mimetype": "text/x-python",
   "name": "python",
   "nbconvert_exporter": "python",
   "pygments_lexer": "ipython3",
   "version": "3.11.7"
  }
 },
 "nbformat": 4,
 "nbformat_minor": 5
}
