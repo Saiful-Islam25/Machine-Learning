{
 "cells": [
  {
   "cell_type": "markdown",
   "id": "a0e4e9cf-b411-4395-aaf0-4f0d2a9587dd",
   "metadata": {},
   "source": [
    "Linear Regression Training Project: Ecommerce Clients\n",
    "\n",
    "In this project we work with a dataset available on Kaggle. The data includes information about customers of an e-commerce website, including the following:\n",
    "\n",
    "Avg. Session Length: Average session of in-store style advice sessions.\n",
    "\n",
    "Time on App: Average time spent on App in minutes\n",
    "\n",
    "Time on Website: Average time spent on Website in minutes\n",
    "\n",
    "Length of Membership: How many years the customer has been a member.\n",
    "\n",
    "In this project, we suppose that the company is trying to decide whether to focus their efforts on their mobile app experience or their website. We are here to help them make a data-driven decision."
   ]
  },
  {
   "cell_type": "code",
   "execution_count": 1,
   "id": "5315a372-5e06-47a1-b770-9e3845a66e37",
   "metadata": {},
   "outputs": [],
   "source": [
    "import pandas as pd\n",
    "import matplotlib.pyplot as plt\n",
    "import seaborn as sns"
   ]
  },
  {
   "cell_type": "code",
   "execution_count": null,
   "id": "1243847e-088d-4f07-924a-d6371495a136",
   "metadata": {},
   "outputs": [],
   "source": []
  }
 ],
 "metadata": {
  "kernelspec": {
   "display_name": "Python 3 (ipykernel)",
   "language": "python",
   "name": "python3"
  },
  "language_info": {
   "codemirror_mode": {
    "name": "ipython",
    "version": 3
   },
   "file_extension": ".py",
   "mimetype": "text/x-python",
   "name": "python",
   "nbconvert_exporter": "python",
   "pygments_lexer": "ipython3",
   "version": "3.11.7"
  }
 },
 "nbformat": 4,
 "nbformat_minor": 5
}
